{
 "cells": [
  {
   "cell_type": "markdown",
   "metadata": {},
   "source": [
    "# Projeto 2 - Ciência dos Dados"
   ]
  },
  {
   "cell_type": "markdown",
   "metadata": {},
   "source": [
    "Nome: _____\n",
    "\n",
    "Nome: _____"
   ]
  },
  {
   "cell_type": "markdown",
   "metadata": {},
   "source": [
    "Serão permitidos grupos de três pessoas, mas com uma rubrica mais exigente. Grupos deste tamanho precisarão fazer um questionário de avaliação de trabalho em equipe"
   ]
  },
  {
   "cell_type": "markdown",
   "metadata": {},
   "source": [
    "___\n",
    "# Classificador automático de sentimento\n"
   ]
  },
  {
   "cell_type": "markdown",
   "metadata": {},
   "source": [
    "## Preparando o ambiente no jupyter:"
   ]
  },
  {
   "cell_type": "code",
   "execution_count": 17,
   "metadata": {},
   "outputs": [],
   "source": [
    "%%capture\n",
    "\n",
    "#Instalando o tweepy\n",
    "!pip install tweepy"
   ]
  },
  {
   "cell_type": "code",
   "execution_count": 80,
   "metadata": {
    "jupyter": {
     "outputs_hidden": true
    }
   },
   "outputs": [],
   "source": [
    "import tweepy\n",
    "import math\n",
    "import os.path\n",
    "import pandas as pd\n",
    "import json\n",
    "import numpy as np\n",
    "from random import shuffle"
   ]
  },
  {
   "cell_type": "markdown",
   "metadata": {},
   "source": [
    "___\n",
    "## Autenticando no  Twitter\n",
    "\n",
    "* Conta: ***[Preencha aqui o id da sua conta. Ex: @fulano ]***"
   ]
  },
  {
   "cell_type": "code",
   "execution_count": 81,
   "metadata": {
    "jupyter": {
     "outputs_hidden": true
    }
   },
   "outputs": [],
   "source": [
    "#Dados de autenticação do twitter:\n",
    "\n",
    "#Coloque aqui o identificador da conta no twitter: @fulano\n",
    "#Conta: @gabrielpfm\n",
    "\n",
    "#leitura do arquivo no formato JSON\n",
    "#with open('auth.pass') as fp:    \n",
    " #   data = json.load(fp)\n",
    "\n",
    "#Configurando a biblioteca. Não modificar\n",
    "#auth = tweepy.OAuthHandler(data['consumer_key'], data['consumer_secret'])\n",
    "#auth.set_access_token(data['access_token'], data['access_token_secret'])"
   ]
  },
  {
   "cell_type": "markdown",
   "metadata": {},
   "source": [
    "___\n",
    "## Etapas do projeto:"
   ]
  },
  {
   "cell_type": "markdown",
   "metadata": {},
   "source": [
    "### Escolha de um produto e coleta das mensagens\n"
   ]
  },
  {
   "cell_type": "code",
   "execution_count": 82,
   "metadata": {
    "jupyter": {
     "outputs_hidden": true
    }
   },
   "outputs": [],
   "source": [
    "#Produto escolhido:\n",
    "#produto = 'Nintendo'\n",
    "\n",
    "#Quantidade mínima de mensagens capturadas:\n",
    "#n = 750\n",
    "#Quantidade mínima de mensagens para a base de treinamento:\n",
    "t = 450\n",
    "\n",
    "#Filtro de língua, escolha uma na tabela ISO 639-1.\n",
    "lang = 'pt'"
   ]
  },
  {
   "cell_type": "markdown",
   "metadata": {},
   "source": [
    "Capturando os dados do twitter:"
   ]
  },
  {
   "cell_type": "code",
   "execution_count": 83,
   "metadata": {
    "jupyter": {
     "outputs_hidden": true
    }
   },
   "outputs": [],
   "source": [
    "#Cria um objeto para a captura\n",
    "#api = tweepy.API(auth)\n",
    "\n",
    "#Inicia a captura, para mais detalhes: ver a documentação do tweepy\n",
    "#i = 1\n",
    "#msgs = []\n",
    "#for msg in tweepy.Cursor(api.search, q=produto, lang=lang,tweet_mode=\"extended\").items():    \n",
    "    #msgs.append(msg.full_text.lower())\n",
    " #   i += 1\n",
    " # #  if i > n:\n",
    "   #     break\n",
    "\n",
    "#Embaralhando as mensagens para reduzir um possível viés\n",
    "#shuffle(msgs)"
   ]
  },
  {
   "cell_type": "markdown",
   "metadata": {},
   "source": [
    "Salvando os dados em uma planilha Excel:"
   ]
  },
  {
   "cell_type": "code",
   "execution_count": 84,
   "metadata": {
    "jupyter": {
     "outputs_hidden": true
    }
   },
   "outputs": [],
   "source": [
    "#Verifica se o arquivo não existe para não substituir um conjunto pronto\n",
    "#if not os.path.isfile('./{0}.xlsx'.format(produto)):\n",
    "    \n",
    "    #Abre o arquivo para escrita\n",
    "   # writer = pd.ExcelWriter('{0}.xlsx'.format(produto))\n",
    "\n",
    "    #divide o conjunto de mensagens em duas planilhas\n",
    "  #  dft = pd.DataFrame({'Treinamento' : pd.Series(msgs[:t])})\n",
    "   # dft.to_excel(excel_writer = writer, sheet_name = 'Treinamento', index = False)\n",
    "\n",
    "  #  dfc = pd.DataFrame({'Teste' : pd.Series(msgs[t:])})\n",
    "  #  dfc.to_excel(excel_writer = writer, sheet_name = 'Teste', index = False)\n",
    "\n",
    "    #fecha o arquivo\n",
    "  #  writer.save()"
   ]
  },
  {
   "cell_type": "markdown",
   "metadata": {},
   "source": [
    "___\n",
    "### Classificando as mensagens na coragem\n",
    "\n",
    "Esta etapa é manual. Faça a mesma pelo Excel."
   ]
  },
  {
   "cell_type": "code",
   "execution_count": null,
   "metadata": {},
   "outputs": [],
   "source": []
  },
  {
   "cell_type": "code",
   "execution_count": null,
   "metadata": {},
   "outputs": [],
   "source": []
  },
  {
   "cell_type": "code",
   "execution_count": null,
   "metadata": {},
   "outputs": [],
   "source": []
  },
  {
   "cell_type": "markdown",
   "metadata": {},
   "source": [
    "___\n",
    "### Montando o Classificador Naive-Bayes\n",
    "\n",
    "Considerando apenas as mensagens da planilha Treinamento, ensine  seu classificador."
   ]
  },
  {
   "cell_type": "code",
   "execution_count": 85,
   "metadata": {},
   "outputs": [],
   "source": [
    "import re \n",
    "\n",
    "\n",
    "def cleanup(text):\n",
    "    \"\"\"\n",
    "        Função de limpeza muito simples que troca alguns sinais básicos por espaços\n",
    "    \"\"\"\n",
    "    import string\n",
    "    punctuation = '[!-.:?;]' # Note que os sinais [] são delimitadores de um conjunto.\n",
    "    pattern = re.compile(punctuation)\n",
    "    text_subbed = re.sub(pattern, ' ', text)\n",
    "    return text_subbed"
   ]
  },
  {
   "cell_type": "code",
   "execution_count": 86,
   "metadata": {},
   "outputs": [],
   "source": [
    "Excel = pd.read_excel(\"Nintendo.xlsx\", sheet_name=\"Treinamento\")\n"
   ]
  },
  {
   "cell_type": "code",
   "execution_count": 87,
   "metadata": {},
   "outputs": [],
   "source": [
    "#Transformando Excel em 3 textos divididos por categoria\n",
    "trein_cat0 = \" \".join(Excel[Excel[\"Classificação\"]==0].Treinamento)\n",
    "trein_cat1 = \" \".join(Excel[Excel[\"Classificação\"]==1].Treinamento)\n",
    "trein_cat2 = \" \".join(Excel[Excel[\"Classificação\"]==2].Treinamento)"
   ]
  },
  {
   "cell_type": "code",
   "execution_count": 88,
   "metadata": {},
   "outputs": [],
   "source": [
    "#Três'textões' após a limpeza\n",
    "cat0_clean = cleanup(trein_cat0.lower())\n",
    "serie0 = pd.Series(cat0_clean.split())\n",
    "cat1_clean = cleanup(trein_cat1.lower())\n",
    "serie1 = pd.Series(cat1_clean.split())\n",
    "cat2_clean = cleanup(trein_cat2.lower())\n",
    "serie2 = pd.Series(cat2_clean.split())"
   ]
  },
  {
   "cell_type": "code",
   "execution_count": 89,
   "metadata": {},
   "outputs": [],
   "source": [
    "freq_abs0 = serie0.value_counts()\n",
    "freq_abs1 = serie1.value_counts()\n",
    "freq_abs2 = serie2.value_counts()\n",
    "\n",
    "freq_rel0 = serie0.value_counts(True)\n",
    "freq_rel1 = serie1.value_counts(True)\n",
    "freq_rel2 = serie2.value_counts(True)\n",
    "freq_rel = [freq_rel0,freq_rel1,freq_rel2]"
   ]
  },
  {
   "cell_type": "code",
   "execution_count": 90,
   "metadata": {},
   "outputs": [],
   "source": [
    "tudo = cat0_clean+cat1_clean+cat2_clean\n",
    "serie_tudo = pd.Series(tudo.split())\n",
    "freq_abs_tudo = serie_tudo.value_counts()\n",
    "freq_rel_tudo = serie_tudo.value_counts(True)\n",
    "freq_abs= [freq_abs0,freq_abs1,freq_abs2,freq_abs_tudo]\n"
   ]
  },
  {
   "cell_type": "code",
   "execution_count": 91,
   "metadata": {},
   "outputs": [],
   "source": [
    "Prob_0 = freq_abs0.sum()/freq_abs_tudo.sum()\n",
    "Prob_1 = freq_abs1.sum()/freq_abs_tudo.sum()\n",
    "Prob_2 = freq_abs2.sum()/freq_abs_tudo.sum()\n",
    "Probs = [Prob_0,Prob_1,Prob_2]"
   ]
  },
  {
   "cell_type": "code",
   "execution_count": 92,
   "metadata": {},
   "outputs": [],
   "source": [
    "set0 = set(freq_rel0.index)\n",
    "set1 = set(freq_rel1.index)\n",
    "set2 = set(freq_rel2.index)\n",
    "inter01 = set0.intersection(set1)\n",
    "inter02 = set0.intersection(set2)\n",
    "inter12 = set1.intersection(set2)\n",
    "inter012 = set0.intersection(inter12)\n"
   ]
  },
  {
   "cell_type": "code",
   "execution_count": 112,
   "metadata": {},
   "outputs": [],
   "source": [
    "def Classificador(tweet,freq_abs):\n",
    "    categoria = 0\n",
    "    maior_prob = 0\n",
    "    Prob_Tweet_Categoria = {}\n",
    "    Prob_Categoria_Tweet = {}\n",
    "    for n in range(0,3):\n",
    "        probabilidade = 1\n",
    "        probtc = freq_abs[n][tweet.values]\n",
    "        for palavra,quantidade in probtc.items():\n",
    "\n",
    "\n",
    "            if np.isnan(quantidade) == True:\n",
    "                laplace = 1/(len(freq_abs_tudo)+len(freq_abs[n]))\n",
    "            else:\n",
    "                laplace = quantidade+1/(len(freq_abs_tudo)+len(freq_abs[n]))\n",
    "                \n",
    "        probabilidade *= laplace\n",
    "        \n",
    "                \n",
    "                \n",
    "                \n",
    "        \n",
    "            \n",
    "        \n",
    "        Prob_Tweet_Categoria[n] = probabilidade\n",
    "    for n in range(0,3):\n",
    "        prtoct = Prob_Tweet_Categoria[n]*Probs[n]\n",
    "        Prob_Categoria_Tweet[n] = prtoct\n",
    "    for categorias, probabilidade in Prob_Categoria_Tweet.items():\n",
    "        if probabilidade > maior_prob:\n",
    "            maior_prob = probabilidade\n",
    "            \n",
    "            categoria = categorias\n",
    "    \n",
    "    return categoria\n",
    "        \n"
   ]
  },
  {
   "cell_type": "code",
   "execution_count": 113,
   "metadata": {},
   "outputs": [],
   "source": [
    "#Entrada do Tweet\n",
    "def Limpa_Tweet(Excel_Lido,Coluna,freq_rel):\n",
    "    indice = 0\n",
    "    Excel_Lido.loc[:,\"Classificação\"] = 0\n",
    "    for tweets in Excel_Lido.Teste:\n",
    "        tweet_limpo = cleanup(tweets.lower())\n",
    "        tweet = pd.Series(tweet_limpo.split())\n",
    "        classificado = Classificador(tweet,freq_rel)\n",
    "        Excel_Lido.loc[indice,\"Classificação\"] = classificado\n",
    "        indice +=1\n",
    "    return Excel_Lido\n",
    "    "
   ]
  },
  {
   "cell_type": "markdown",
   "metadata": {},
   "source": [
    "___\n",
    "### Verificando a performance\n",
    "\n",
    "Agora você deve testar o seu classificador com a base de Testes."
   ]
  },
  {
   "cell_type": "code",
   "execution_count": 114,
   "metadata": {},
   "outputs": [
    {
     "data": {
      "text/html": [
       "<div>\n",
       "<style scoped>\n",
       "    .dataframe tbody tr th:only-of-type {\n",
       "        vertical-align: middle;\n",
       "    }\n",
       "\n",
       "    .dataframe tbody tr th {\n",
       "        vertical-align: top;\n",
       "    }\n",
       "\n",
       "    .dataframe thead th {\n",
       "        text-align: right;\n",
       "    }\n",
       "</style>\n",
       "<table border=\"1\" class=\"dataframe\">\n",
       "  <thead>\n",
       "    <tr style=\"text-align: right;\">\n",
       "      <th></th>\n",
       "      <th>Teste</th>\n",
       "      <th>Classificação</th>\n",
       "    </tr>\n",
       "  </thead>\n",
       "  <tbody>\n",
       "    <tr>\n",
       "      <th>0</th>\n",
       "      <td>@luau_drey hahahaha banco imobiliário, genius,...</td>\n",
       "      <td>1</td>\n",
       "    </tr>\n",
       "    <tr>\n",
       "      <th>1</th>\n",
       "      <td>nintendo pode anunciar controles flexíveis par...</td>\n",
       "      <td>1</td>\n",
       "    </tr>\n",
       "    <tr>\n",
       "      <th>2</th>\n",
       "      <td>rt @nintendeusa: os consoles da nintendo em ge...</td>\n",
       "      <td>0</td>\n",
       "    </tr>\n",
       "    <tr>\n",
       "      <th>3</th>\n",
       "      <td>sonhei com um super nintendo ???????????????????</td>\n",
       "      <td>1</td>\n",
       "    </tr>\n",
       "    <tr>\n",
       "      <th>4</th>\n",
       "      <td>@pedretweets eu sempre tive um amor enorme pel...</td>\n",
       "      <td>1</td>\n",
       "    </tr>\n",
       "    <tr>\n",
       "      <th>5</th>\n",
       "      <td>megaquarium daté sur nintendo switch https://t...</td>\n",
       "      <td>1</td>\n",
       "    </tr>\n",
       "    <tr>\n",
       "      <th>6</th>\n",
       "      <td>@katgatito amo todos menos os gordao jgoador d...</td>\n",
       "      <td>1</td>\n",
       "    </tr>\n",
       "    <tr>\n",
       "      <th>7</th>\n",
       "      <td>@ceythian @nintendo_mg miojão com suco de uva ...</td>\n",
       "      <td>1</td>\n",
       "    </tr>\n",
       "    <tr>\n",
       "      <th>8</th>\n",
       "      <td>@luizns6 @fabiocetf @mrbeambr cenário tá pront...</td>\n",
       "      <td>1</td>\n",
       "    </tr>\n",
       "    <tr>\n",
       "      <th>9</th>\n",
       "      <td>rt @nintendeusa: achei justa a escolha do terr...</td>\n",
       "      <td>2</td>\n",
       "    </tr>\n",
       "    <tr>\n",
       "      <th>10</th>\n",
       "      <td>nintendo servers #superkirbyclash #nintendoswi...</td>\n",
       "      <td>1</td>\n",
       "    </tr>\n",
       "    <tr>\n",
       "      <th>11</th>\n",
       "      <td>@lucasbrum tudo bem que a nintendo era extrema...</td>\n",
       "      <td>2</td>\n",
       "    </tr>\n",
       "    <tr>\n",
       "      <th>12</th>\n",
       "      <td>já estão prontos para baixar e jogar grandes c...</td>\n",
       "      <td>2</td>\n",
       "    </tr>\n",
       "    <tr>\n",
       "      <th>13</th>\n",
       "      <td>@nintendo_mg e eu não vou ficar perdendo tempo...</td>\n",
       "      <td>1</td>\n",
       "    </tr>\n",
       "    <tr>\n",
       "      <th>14</th>\n",
       "      <td>como assim expansion pass nintendo puta que pa...</td>\n",
       "      <td>0</td>\n",
       "    </tr>\n",
       "    <tr>\n",
       "      <th>15</th>\n",
       "      <td>joy-cons da nintendo switch podem tornar-se ma...</td>\n",
       "      <td>1</td>\n",
       "    </tr>\n",
       "    <tr>\n",
       "      <th>16</th>\n",
       "      <td>@danno_omen nintendo\\n1. mario\\n2. zelda\\n3. m...</td>\n",
       "      <td>1</td>\n",
       "    </tr>\n",
       "    <tr>\n",
       "      <th>17</th>\n",
       "      <td>@olhaoquete2igo @0xjoao @tecno_boy @sega sim, ...</td>\n",
       "      <td>1</td>\n",
       "    </tr>\n",
       "    <tr>\n",
       "      <th>18</th>\n",
       "      <td>eu amo a nintendo mas do jeito mercenário que ...</td>\n",
       "      <td>1</td>\n",
       "    </tr>\n",
       "    <tr>\n",
       "      <th>19</th>\n",
       "      <td>ei eu posso estar enganado mas você gosta da n...</td>\n",
       "      <td>2</td>\n",
       "    </tr>\n",
       "    <tr>\n",
       "      <th>20</th>\n",
       "      <td>@cdnleon é por isso que eu só jogo zelda. do s...</td>\n",
       "      <td>1</td>\n",
       "    </tr>\n",
       "    <tr>\n",
       "      <th>21</th>\n",
       "      <td>vou ter que me prostituir por culpa da nintendo</td>\n",
       "      <td>1</td>\n",
       "    </tr>\n",
       "    <tr>\n",
       "      <th>22</th>\n",
       "      <td>rt @eurogamer_es: anunciado doom 64 para ninte...</td>\n",
       "      <td>1</td>\n",
       "    </tr>\n",
       "    <tr>\n",
       "      <th>23</th>\n",
       "      <td>em 1995 eu tinha 10 anos e não entendia nada s...</td>\n",
       "      <td>1</td>\n",
       "    </tr>\n",
       "    <tr>\n",
       "      <th>24</th>\n",
       "      <td>@luana88993026 sim, ele tá, foi anunciado na n...</td>\n",
       "      <td>1</td>\n",
       "    </tr>\n",
       "    <tr>\n",
       "      <th>25</th>\n",
       "      <td>@coadordecoffee quem é você?</td>\n",
       "      <td>1</td>\n",
       "    </tr>\n",
       "    <tr>\n",
       "      <th>26</th>\n",
       "      <td>comprei nintendo online, jogos dos anos 1900 t...</td>\n",
       "      <td>1</td>\n",
       "    </tr>\n",
       "    <tr>\n",
       "      <th>27</th>\n",
       "      <td>@mrbeambr continua rindo aí, miojão com suco d...</td>\n",
       "      <td>1</td>\n",
       "    </tr>\n",
       "    <tr>\n",
       "      <th>28</th>\n",
       "      <td>[nintendo] nova patente dos controles joy-con ...</td>\n",
       "      <td>1</td>\n",
       "    </tr>\n",
       "    <tr>\n",
       "      <th>29</th>\n",
       "      <td>rt @futurebehind: hoje, durante o dia, vamos e...</td>\n",
       "      <td>1</td>\n",
       "    </tr>\n",
       "    <tr>\n",
       "      <th>...</th>\n",
       "      <td>...</td>\n",
       "      <td>...</td>\n",
       "    </tr>\n",
       "    <tr>\n",
       "      <th>370</th>\n",
       "      <td>@nintendo_mg olá! você chegou a reportar sobre...</td>\n",
       "      <td>1</td>\n",
       "    </tr>\n",
       "    <tr>\n",
       "      <th>371</th>\n",
       "      <td>grid : autosport daté sur nintendo switch http...</td>\n",
       "      <td>1</td>\n",
       "    </tr>\n",
       "    <tr>\n",
       "      <th>372</th>\n",
       "      <td>rt @frugalgaming: pre-order nintendo switch li...</td>\n",
       "      <td>1</td>\n",
       "    </tr>\n",
       "    <tr>\n",
       "      <th>373</th>\n",
       "      <td>tinha até me esquecido da nintendo direct. ter...</td>\n",
       "      <td>1</td>\n",
       "    </tr>\n",
       "    <tr>\n",
       "      <th>374</th>\n",
       "      <td>vídeo games : joy-con dobráveis são registrado...</td>\n",
       "      <td>1</td>\n",
       "    </tr>\n",
       "    <tr>\n",
       "      <th>375</th>\n",
       "      <td>@blocknho antes eu duvidava na epoca do banjo,...</td>\n",
       "      <td>1</td>\n",
       "    </tr>\n",
       "    <tr>\n",
       "      <th>376</th>\n",
       "      <td>rt @kevinlipe9: bicho, o sakurai simplesmente ...</td>\n",
       "      <td>1</td>\n",
       "    </tr>\n",
       "    <tr>\n",
       "      <th>377</th>\n",
       "      <td>sem mentira mascote mais cruel da nintendo</td>\n",
       "      <td>1</td>\n",
       "    </tr>\n",
       "    <tr>\n",
       "      <th>378</th>\n",
       "      <td>rt @rodryuken: hoje vi que existe um \"nintendo...</td>\n",
       "      <td>1</td>\n",
       "    </tr>\n",
       "    <tr>\n",
       "      <th>379</th>\n",
       "      <td>rt @mizumi_karu: @nintendo_mg @mrbeambr mano, ...</td>\n",
       "      <td>1</td>\n",
       "    </tr>\n",
       "    <tr>\n",
       "      <th>380</th>\n",
       "      <td>rt @daltoneto17: cadê meu nintendo switch do f...</td>\n",
       "      <td>1</td>\n",
       "    </tr>\n",
       "    <tr>\n",
       "      <th>381</th>\n",
       "      <td>@wuesleysilva1 @good_tr1p @ruanz_ kkskskskskkk...</td>\n",
       "      <td>1</td>\n",
       "    </tr>\n",
       "    <tr>\n",
       "      <th>382</th>\n",
       "      <td>que porra é essa, 22 pessoas compactuam com a ...</td>\n",
       "      <td>1</td>\n",
       "    </tr>\n",
       "    <tr>\n",
       "      <th>383</th>\n",
       "      <td>nintendo switch pode ter óculos de rv em breve...</td>\n",
       "      <td>1</td>\n",
       "    </tr>\n",
       "    <tr>\n",
       "      <th>384</th>\n",
       "      <td>https://t.co/q00obt6va9\\nveja como o super nin...</td>\n",
       "      <td>1</td>\n",
       "    </tr>\n",
       "    <tr>\n",
       "      <th>385</th>\n",
       "      <td>@guugaax1 @liberta__depre gráfico ótimo, jogab...</td>\n",
       "      <td>1</td>\n",
       "    </tr>\n",
       "    <tr>\n",
       "      <th>386</th>\n",
       "      <td>@moesenederfan nintendo</td>\n",
       "      <td>1</td>\n",
       "    </tr>\n",
       "    <tr>\n",
       "      <th>387</th>\n",
       "      <td>baixei donkey kong no cel e ta batendo sdd das...</td>\n",
       "      <td>1</td>\n",
       "    </tr>\n",
       "    <tr>\n",
       "      <th>388</th>\n",
       "      <td>@necallivaldo @midiasonysta continuando por ex...</td>\n",
       "      <td>1</td>\n",
       "    </tr>\n",
       "    <tr>\n",
       "      <th>389</th>\n",
       "      <td>eu nunca tive dinheiro pra um n64 e fui do sup...</td>\n",
       "      <td>1</td>\n",
       "    </tr>\n",
       "    <tr>\n",
       "      <th>390</th>\n",
       "      <td>mais um dia acordando sem um nintendo switch p...</td>\n",
       "      <td>1</td>\n",
       "    </tr>\n",
       "    <tr>\n",
       "      <th>391</th>\n",
       "      <td>@olhaoquete2igo @0xjoao @tecno_boy @sega sim, ...</td>\n",
       "      <td>1</td>\n",
       "    </tr>\n",
       "    <tr>\n",
       "      <th>392</th>\n",
       "      <td>xenoblade chronicles: definitive edition: trai...</td>\n",
       "      <td>1</td>\n",
       "    </tr>\n",
       "    <tr>\n",
       "      <th>393</th>\n",
       "      <td>nintendo switch: clássico do ps1 chegará ao co...</td>\n",
       "      <td>1</td>\n",
       "    </tr>\n",
       "    <tr>\n",
       "      <th>394</th>\n",
       "      <td>@art1a3t tipo, n tinha td para você pegar, mas...</td>\n",
       "      <td>1</td>\n",
       "    </tr>\n",
       "    <tr>\n",
       "      <th>395</th>\n",
       "      <td>@nintendo_mg ah não, nintendo mil grau... só o...</td>\n",
       "      <td>1</td>\n",
       "    </tr>\n",
       "    <tr>\n",
       "      <th>396</th>\n",
       "      <td>é triste ver oque aconteceu com a poderosa seg...</td>\n",
       "      <td>2</td>\n",
       "    </tr>\n",
       "    <tr>\n",
       "      <th>397</th>\n",
       "      <td>@pedrorillex @ceythian @arwenluthien_ @nintend...</td>\n",
       "      <td>1</td>\n",
       "    </tr>\n",
       "    <tr>\n",
       "      <th>398</th>\n",
       "      <td>rt @bydanipro03: nintendo: sans\\n\\nfans: 🥰😍😍🥰😘...</td>\n",
       "      <td>1</td>\n",
       "    </tr>\n",
       "    <tr>\n",
       "      <th>399</th>\n",
       "      <td>@olhaoquete2igo @vidademigalhas @sega no ramo ...</td>\n",
       "      <td>1</td>\n",
       "    </tr>\n",
       "  </tbody>\n",
       "</table>\n",
       "<p>400 rows × 2 columns</p>\n",
       "</div>"
      ],
      "text/plain": [
       "                                                 Teste  Classificação\n",
       "0    @luau_drey hahahaha banco imobiliário, genius,...              1\n",
       "1    nintendo pode anunciar controles flexíveis par...              1\n",
       "2    rt @nintendeusa: os consoles da nintendo em ge...              0\n",
       "3     sonhei com um super nintendo ???????????????????              1\n",
       "4    @pedretweets eu sempre tive um amor enorme pel...              1\n",
       "5    megaquarium daté sur nintendo switch https://t...              1\n",
       "6    @katgatito amo todos menos os gordao jgoador d...              1\n",
       "7    @ceythian @nintendo_mg miojão com suco de uva ...              1\n",
       "8    @luizns6 @fabiocetf @mrbeambr cenário tá pront...              1\n",
       "9    rt @nintendeusa: achei justa a escolha do terr...              2\n",
       "10   nintendo servers #superkirbyclash #nintendoswi...              1\n",
       "11   @lucasbrum tudo bem que a nintendo era extrema...              2\n",
       "12   já estão prontos para baixar e jogar grandes c...              2\n",
       "13   @nintendo_mg e eu não vou ficar perdendo tempo...              1\n",
       "14   como assim expansion pass nintendo puta que pa...              0\n",
       "15   joy-cons da nintendo switch podem tornar-se ma...              1\n",
       "16   @danno_omen nintendo\\n1. mario\\n2. zelda\\n3. m...              1\n",
       "17   @olhaoquete2igo @0xjoao @tecno_boy @sega sim, ...              1\n",
       "18   eu amo a nintendo mas do jeito mercenário que ...              1\n",
       "19   ei eu posso estar enganado mas você gosta da n...              2\n",
       "20   @cdnleon é por isso que eu só jogo zelda. do s...              1\n",
       "21     vou ter que me prostituir por culpa da nintendo              1\n",
       "22   rt @eurogamer_es: anunciado doom 64 para ninte...              1\n",
       "23   em 1995 eu tinha 10 anos e não entendia nada s...              1\n",
       "24   @luana88993026 sim, ele tá, foi anunciado na n...              1\n",
       "25                        @coadordecoffee quem é você?              1\n",
       "26   comprei nintendo online, jogos dos anos 1900 t...              1\n",
       "27   @mrbeambr continua rindo aí, miojão com suco d...              1\n",
       "28   [nintendo] nova patente dos controles joy-con ...              1\n",
       "29   rt @futurebehind: hoje, durante o dia, vamos e...              1\n",
       "..                                                 ...            ...\n",
       "370  @nintendo_mg olá! você chegou a reportar sobre...              1\n",
       "371  grid : autosport daté sur nintendo switch http...              1\n",
       "372  rt @frugalgaming: pre-order nintendo switch li...              1\n",
       "373  tinha até me esquecido da nintendo direct. ter...              1\n",
       "374  vídeo games : joy-con dobráveis são registrado...              1\n",
       "375  @blocknho antes eu duvidava na epoca do banjo,...              1\n",
       "376  rt @kevinlipe9: bicho, o sakurai simplesmente ...              1\n",
       "377         sem mentira mascote mais cruel da nintendo              1\n",
       "378  rt @rodryuken: hoje vi que existe um \"nintendo...              1\n",
       "379  rt @mizumi_karu: @nintendo_mg @mrbeambr mano, ...              1\n",
       "380  rt @daltoneto17: cadê meu nintendo switch do f...              1\n",
       "381  @wuesleysilva1 @good_tr1p @ruanz_ kkskskskskkk...              1\n",
       "382  que porra é essa, 22 pessoas compactuam com a ...              1\n",
       "383  nintendo switch pode ter óculos de rv em breve...              1\n",
       "384  https://t.co/q00obt6va9\\nveja como o super nin...              1\n",
       "385  @guugaax1 @liberta__depre gráfico ótimo, jogab...              1\n",
       "386                            @moesenederfan nintendo              1\n",
       "387  baixei donkey kong no cel e ta batendo sdd das...              1\n",
       "388  @necallivaldo @midiasonysta continuando por ex...              1\n",
       "389  eu nunca tive dinheiro pra um n64 e fui do sup...              1\n",
       "390  mais um dia acordando sem um nintendo switch p...              1\n",
       "391  @olhaoquete2igo @0xjoao @tecno_boy @sega sim, ...              1\n",
       "392  xenoblade chronicles: definitive edition: trai...              1\n",
       "393  nintendo switch: clássico do ps1 chegará ao co...              1\n",
       "394  @art1a3t tipo, n tinha td para você pegar, mas...              1\n",
       "395  @nintendo_mg ah não, nintendo mil grau... só o...              1\n",
       "396  é triste ver oque aconteceu com a poderosa seg...              2\n",
       "397  @pedrorillex @ceythian @arwenluthien_ @nintend...              1\n",
       "398  rt @bydanipro03: nintendo: sans\\n\\nfans: 🥰😍😍🥰😘...              1\n",
       "399  @olhaoquete2igo @vidademigalhas @sega no ramo ...              1\n",
       "\n",
       "[400 rows x 2 columns]"
      ]
     },
     "execution_count": 114,
     "metadata": {},
     "output_type": "execute_result"
    }
   ],
   "source": [
    "Excel_Teste = pd.read_excel(\"Nintendo.xlsx\", sheet_name=\"Teste\")\n",
    "\n",
    "manual =[]\n",
    "for classficacao in Excel_Teste[\"Classificação\"]:\n",
    "    manual.append(classficacao)\n",
    "\n",
    "\n",
    "teste = \"Teste\"\n",
    "Excel_Classificado = Limpa_Tweet(Excel_Teste,teste,freq_abs)\n",
    "Excel_Classificado\n"
   ]
  },
  {
   "cell_type": "code",
   "execution_count": 115,
   "metadata": {},
   "outputs": [
    {
     "name": "stdout",
     "output_type": "stream",
     "text": [
      "[1, 1, 0, 1, 1, 1, 1, 1, 1, 2, 1, 2, 2, 1, 0, 1, 1, 1, 1, 2, 1, 1, 1, 1, 1, 1, 1, 1, 1, 1, 1, 1, 1, 1, 1, 1, 1, 1, 1, 1, 1, 1, 1, 1, 1, 1, 1, 1, 1, 1, 1, 1, 1, 1, 1, 1, 1, 1, 1, 1, 1, 1, 1, 1, 1, 1, 1, 1, 1, 1, 1, 1, 1, 1, 1, 1, 1, 1, 1, 1, 1, 1, 1, 1, 2, 1, 1, 1, 1, 1, 1, 1, 1, 1, 1, 1, 1, 1, 1, 1, 1, 1, 1, 1, 1, 1, 1, 1, 1, 1, 1, 1, 2, 1, 1, 1, 1, 1, 1, 1, 1, 1, 1, 1, 1, 1, 1, 1, 1, 1, 1, 1, 1, 1, 1, 1, 1, 1, 1, 1, 1, 1, 1, 1, 1, 1, 1, 1, 1, 1, 1, 1, 1, 1, 1, 2, 1, 1, 1, 1, 1, 1, 1, 1, 1, 2, 1, 1, 1, 1, 1, 1, 1, 1, 1, 1, 1, 1, 1, 1, 1, 2, 1, 1, 1, 1, 1, 1, 1, 1, 1, 1, 0, 1, 1, 1, 1, 1, 1, 1, 1, 1, 1, 2, 1, 1, 1, 1, 1, 1, 1, 1, 1, 1, 1, 1, 1, 1, 1, 1, 0, 1, 1, 1, 1, 1, 1, 1, 1, 1, 1, 1, 2, 1, 1, 1, 1, 1, 1, 1, 1, 1, 1, 1, 1, 1, 1, 2, 1, 1, 1, 1, 1, 1, 2, 1, 1, 1, 1, 1, 1, 1, 2, 1, 1, 1, 2, 1, 1, 1, 1, 1, 1, 1, 1, 1, 1, 1, 1, 1, 1, 1, 1, 1, 1, 1, 1, 1, 1, 1, 1, 1, 1, 1, 1, 1, 1, 1, 1, 1, 1, 1, 1, 1, 1, 1, 1, 1, 1, 1, 1, 1, 1, 1, 1, 2, 1, 1, 1, 1, 1, 1, 1, 1, 1, 1, 1, 1, 2, 1, 1, 1, 1, 1, 1, 1, 1, 1, 1, 1, 1, 1, 1, 1, 1, 2, 0, 1, 1, 1, 1, 1, 1, 1, 1, 1, 1, 1, 1, 1, 1, 2, 1, 1, 1, 1, 1, 1, 1, 1, 1, 1, 1, 1, 1, 1, 1, 1, 1, 1, 1, 1, 1, 1, 1, 1, 1, 1, 1, 1, 1, 1, 1, 1, 1, 1, 2, 1, 1, 1]\n"
     ]
    }
   ],
   "source": [
    "classificador = []\n",
    "for classficacao in Excel_Classificado[\"Classificação\"]:\n",
    "    classificador.append(classficacao)\n",
    "\n",
    "print(classificador)"
   ]
  },
  {
   "cell_type": "code",
   "execution_count": 116,
   "metadata": {},
   "outputs": [
    {
     "name": "stdout",
     "output_type": "stream",
     "text": [
      "{'Certo': 249, 'Errado': 151}\n"
     ]
    }
   ],
   "source": [
    "Teste_de_Performance = {\"Certo\":0,\"Errado\":0}\n",
    "for i in range(len(manual)):\n",
    "    if classificador[i] == manual[i]:\n",
    "        Teste_de_Performance[\"Certo\"]+=1\n",
    "    else:\n",
    "        Teste_de_Performance[\"Errado\"]+=1\n",
    "print(Teste_de_Performance)"
   ]
  },
  {
   "cell_type": "code",
   "execution_count": null,
   "metadata": {},
   "outputs": [],
   "source": []
  },
  {
   "cell_type": "markdown",
   "metadata": {},
   "source": [
    "___\n",
    "### Concluindo"
   ]
  },
  {
   "cell_type": "code",
   "execution_count": null,
   "metadata": {},
   "outputs": [],
   "source": []
  },
  {
   "cell_type": "code",
   "execution_count": null,
   "metadata": {},
   "outputs": [],
   "source": []
  },
  {
   "cell_type": "markdown",
   "metadata": {},
   "source": [
    "## Aperfeiçoamento:\n",
    "\n",
    "Os trabalhos vão evoluir em conceito dependendo da quantidade de itens avançados:\n",
    "\n",
    "* Limpar: \\n, :, \", ', (, ), etc SEM remover emojis\n",
    "* Corrigir separação de espaços entre palavras e emojis ou emojis e emojis\n",
    "* Propor outras limpezas e transformações que não afetem a qualidade da informação ou classificação\n",
    "* Criar categorias intermediárias de relevância baseadas na probabilidade: ex.: muito relevante, relevante, neutro, irrelevante, muito irrelevante (3 categorias: C, mais categorias conta para B)\n",
    "* Explicar por que não posso usar o próprio classificador para gerar mais amostras de treinamento\n",
    "* Propor diferentes cenários para Naïve Bayes fora do contexto do projeto\n",
    "* Sugerir e explicar melhorias reais com indicações concretas de como implementar (indicar como fazer e indicar material de pesquisa)\n",
    "* Montar um dashboard que periodicamente realiza análise de sentimento e visualiza estes dados"
   ]
  },
  {
   "cell_type": "markdown",
   "metadata": {},
   "source": [
    "# Referências"
   ]
  },
  {
   "cell_type": "markdown",
   "metadata": {},
   "source": [
    "[Naive Bayes and Text Classification](https://arxiv.org/pdf/1410.5329.pdf)  **Mais completo**\n",
    "\n",
    "[A practical explanation of a Naive Bayes Classifier](https://monkeylearn.com/blog/practical-explanation-naive-bayes-classifier/) **Mais simples**"
   ]
  },
  {
   "cell_type": "code",
   "execution_count": null,
   "metadata": {},
   "outputs": [],
   "source": []
  }
 ],
 "metadata": {
  "kernelspec": {
   "display_name": "Python 3",
   "language": "python",
   "name": "python3"
  },
  "language_info": {
   "codemirror_mode": {
    "name": "ipython",
    "version": 3
   },
   "file_extension": ".py",
   "mimetype": "text/x-python",
   "name": "python",
   "nbconvert_exporter": "python",
   "pygments_lexer": "ipython3",
   "version": "3.7.1"
  }
 },
 "nbformat": 4,
 "nbformat_minor": 4
}
